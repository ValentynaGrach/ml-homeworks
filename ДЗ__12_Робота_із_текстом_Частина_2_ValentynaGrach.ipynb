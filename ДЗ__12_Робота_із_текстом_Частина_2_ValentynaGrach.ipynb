{
  "nbformat": 4,
  "nbformat_minor": 0,
  "metadata": {
    "colab": {
      "provenance": [],
      "toc_visible": true,
      "authorship_tag": "ABX9TyOhOP352HWd428MZP233hcq",
      "include_colab_link": true
    },
    "kernelspec": {
      "name": "python3",
      "display_name": "Python 3"
    },
    "language_info": {
      "name": "python"
    }
  },
  "cells": [
    {
      "cell_type": "markdown",
      "metadata": {
        "id": "view-in-github",
        "colab_type": "text"
      },
      "source": [
        "<a href=\"https://colab.research.google.com/github/ValentynaGrach/ml-homeworks/blob/main/%D0%94%D0%97__12_%D0%A0%D0%BE%D0%B1%D0%BE%D1%82%D0%B0_%D1%96%D0%B7_%D1%82%D0%B5%D0%BA%D1%81%D1%82%D0%BE%D0%BC_%D0%A7%D0%B0%D1%81%D1%82%D0%B8%D0%BD%D0%B0_2_ValentynaGrach.ipynb\" target=\"_parent\"><img src=\"https://colab.research.google.com/assets/colab-badge.svg\" alt=\"Open In Colab\"/></a>"
      ]
    },
    {
      "cell_type": "markdown",
      "source": [
        "# Крок 1: Встановлення та завантаження spaCy"
      ],
      "metadata": {
        "id": "c_am7v0EqXBp"
      }
    },
    {
      "cell_type": "code",
      "execution_count": null,
      "metadata": {
        "colab": {
          "base_uri": "https://localhost:8080/"
        },
        "id": "W-s6pzsshzUI",
        "outputId": "b6332abf-5fb9-4bff-9dbd-a6414b925a66"
      },
      "outputs": [
        {
          "output_type": "stream",
          "name": "stdout",
          "text": [
            "Requirement already satisfied: spacy in /usr/local/lib/python3.11/dist-packages (3.8.4)\n",
            "Requirement already satisfied: spacy-legacy<3.1.0,>=3.0.11 in /usr/local/lib/python3.11/dist-packages (from spacy) (3.0.12)\n",
            "Requirement already satisfied: spacy-loggers<2.0.0,>=1.0.0 in /usr/local/lib/python3.11/dist-packages (from spacy) (1.0.5)\n",
            "Requirement already satisfied: murmurhash<1.1.0,>=0.28.0 in /usr/local/lib/python3.11/dist-packages (from spacy) (1.0.12)\n",
            "Requirement already satisfied: cymem<2.1.0,>=2.0.2 in /usr/local/lib/python3.11/dist-packages (from spacy) (2.0.11)\n",
            "Requirement already satisfied: preshed<3.1.0,>=3.0.2 in /usr/local/lib/python3.11/dist-packages (from spacy) (3.0.9)\n",
            "Requirement already satisfied: thinc<8.4.0,>=8.3.4 in /usr/local/lib/python3.11/dist-packages (from spacy) (8.3.4)\n",
            "Requirement already satisfied: wasabi<1.2.0,>=0.9.1 in /usr/local/lib/python3.11/dist-packages (from spacy) (1.1.3)\n",
            "Requirement already satisfied: srsly<3.0.0,>=2.4.3 in /usr/local/lib/python3.11/dist-packages (from spacy) (2.5.1)\n",
            "Requirement already satisfied: catalogue<2.1.0,>=2.0.6 in /usr/local/lib/python3.11/dist-packages (from spacy) (2.0.10)\n",
            "Requirement already satisfied: weasel<0.5.0,>=0.1.0 in /usr/local/lib/python3.11/dist-packages (from spacy) (0.4.1)\n",
            "Requirement already satisfied: typer<1.0.0,>=0.3.0 in /usr/local/lib/python3.11/dist-packages (from spacy) (0.15.2)\n",
            "Requirement already satisfied: tqdm<5.0.0,>=4.38.0 in /usr/local/lib/python3.11/dist-packages (from spacy) (4.67.1)\n",
            "Requirement already satisfied: numpy>=1.19.0 in /usr/local/lib/python3.11/dist-packages (from spacy) (1.26.4)\n",
            "Requirement already satisfied: requests<3.0.0,>=2.13.0 in /usr/local/lib/python3.11/dist-packages (from spacy) (2.32.3)\n",
            "Requirement already satisfied: pydantic!=1.8,!=1.8.1,<3.0.0,>=1.7.4 in /usr/local/lib/python3.11/dist-packages (from spacy) (2.10.6)\n",
            "Requirement already satisfied: jinja2 in /usr/local/lib/python3.11/dist-packages (from spacy) (3.1.6)\n",
            "Requirement already satisfied: setuptools in /usr/local/lib/python3.11/dist-packages (from spacy) (75.1.0)\n",
            "Requirement already satisfied: packaging>=20.0 in /usr/local/lib/python3.11/dist-packages (from spacy) (24.2)\n",
            "Requirement already satisfied: langcodes<4.0.0,>=3.2.0 in /usr/local/lib/python3.11/dist-packages (from spacy) (3.5.0)\n",
            "Requirement already satisfied: language-data>=1.2 in /usr/local/lib/python3.11/dist-packages (from langcodes<4.0.0,>=3.2.0->spacy) (1.3.0)\n",
            "Requirement already satisfied: annotated-types>=0.6.0 in /usr/local/lib/python3.11/dist-packages (from pydantic!=1.8,!=1.8.1,<3.0.0,>=1.7.4->spacy) (0.7.0)\n",
            "Requirement already satisfied: pydantic-core==2.27.2 in /usr/local/lib/python3.11/dist-packages (from pydantic!=1.8,!=1.8.1,<3.0.0,>=1.7.4->spacy) (2.27.2)\n",
            "Requirement already satisfied: typing-extensions>=4.12.2 in /usr/local/lib/python3.11/dist-packages (from pydantic!=1.8,!=1.8.1,<3.0.0,>=1.7.4->spacy) (4.12.2)\n",
            "Requirement already satisfied: charset-normalizer<4,>=2 in /usr/local/lib/python3.11/dist-packages (from requests<3.0.0,>=2.13.0->spacy) (3.4.1)\n",
            "Requirement already satisfied: idna<4,>=2.5 in /usr/local/lib/python3.11/dist-packages (from requests<3.0.0,>=2.13.0->spacy) (3.10)\n",
            "Requirement already satisfied: urllib3<3,>=1.21.1 in /usr/local/lib/python3.11/dist-packages (from requests<3.0.0,>=2.13.0->spacy) (2.3.0)\n",
            "Requirement already satisfied: certifi>=2017.4.17 in /usr/local/lib/python3.11/dist-packages (from requests<3.0.0,>=2.13.0->spacy) (2025.1.31)\n",
            "Requirement already satisfied: blis<1.3.0,>=1.2.0 in /usr/local/lib/python3.11/dist-packages (from thinc<8.4.0,>=8.3.4->spacy) (1.2.0)\n",
            "Requirement already satisfied: confection<1.0.0,>=0.0.1 in /usr/local/lib/python3.11/dist-packages (from thinc<8.4.0,>=8.3.4->spacy) (0.1.5)\n",
            "Requirement already satisfied: click>=8.0.0 in /usr/local/lib/python3.11/dist-packages (from typer<1.0.0,>=0.3.0->spacy) (8.1.8)\n",
            "Requirement already satisfied: shellingham>=1.3.0 in /usr/local/lib/python3.11/dist-packages (from typer<1.0.0,>=0.3.0->spacy) (1.5.4)\n",
            "Requirement already satisfied: rich>=10.11.0 in /usr/local/lib/python3.11/dist-packages (from typer<1.0.0,>=0.3.0->spacy) (13.9.4)\n",
            "Requirement already satisfied: cloudpathlib<1.0.0,>=0.7.0 in /usr/local/lib/python3.11/dist-packages (from weasel<0.5.0,>=0.1.0->spacy) (0.21.0)\n",
            "Requirement already satisfied: smart-open<8.0.0,>=5.2.1 in /usr/local/lib/python3.11/dist-packages (from weasel<0.5.0,>=0.1.0->spacy) (7.1.0)\n",
            "Requirement already satisfied: MarkupSafe>=2.0 in /usr/local/lib/python3.11/dist-packages (from jinja2->spacy) (3.0.2)\n",
            "Requirement already satisfied: marisa-trie>=1.1.0 in /usr/local/lib/python3.11/dist-packages (from language-data>=1.2->langcodes<4.0.0,>=3.2.0->spacy) (1.2.1)\n",
            "Requirement already satisfied: markdown-it-py>=2.2.0 in /usr/local/lib/python3.11/dist-packages (from rich>=10.11.0->typer<1.0.0,>=0.3.0->spacy) (3.0.0)\n",
            "Requirement already satisfied: pygments<3.0.0,>=2.13.0 in /usr/local/lib/python3.11/dist-packages (from rich>=10.11.0->typer<1.0.0,>=0.3.0->spacy) (2.18.0)\n",
            "Requirement already satisfied: wrapt in /usr/local/lib/python3.11/dist-packages (from smart-open<8.0.0,>=5.2.1->weasel<0.5.0,>=0.1.0->spacy) (1.17.2)\n",
            "Requirement already satisfied: mdurl~=0.1 in /usr/local/lib/python3.11/dist-packages (from markdown-it-py>=2.2.0->rich>=10.11.0->typer<1.0.0,>=0.3.0->spacy) (0.1.2)\n",
            "Collecting uk-core-news-sm==3.8.0\n",
            "  Downloading https://github.com/explosion/spacy-models/releases/download/uk_core_news_sm-3.8.0/uk_core_news_sm-3.8.0-py3-none-any.whl (14.9 MB)\n",
            "\u001b[2K     \u001b[90m━━━━━━━━━━━━━━━━━━━━━━━━━━━━━━━━━━━━━━━━\u001b[0m \u001b[32m14.9/14.9 MB\u001b[0m \u001b[31m50.6 MB/s\u001b[0m eta \u001b[36m0:00:00\u001b[0m\n",
            "\u001b[?25hRequirement already satisfied: pymorphy3>=1.0.0 in /usr/local/lib/python3.11/dist-packages (from uk-core-news-sm==3.8.0) (2.0.3)\n",
            "Requirement already satisfied: pymorphy3-dicts-uk in /usr/local/lib/python3.11/dist-packages (from uk-core-news-sm==3.8.0) (2.4.1.1.1663094765)\n",
            "Requirement already satisfied: dawg2-python>=0.8.0 in /usr/local/lib/python3.11/dist-packages (from pymorphy3>=1.0.0->uk-core-news-sm==3.8.0) (0.9.0)\n",
            "Requirement already satisfied: pymorphy3-dicts-ru in /usr/local/lib/python3.11/dist-packages (from pymorphy3>=1.0.0->uk-core-news-sm==3.8.0) (2.4.417150.4580142)\n",
            "\u001b[38;5;2m✔ Download and installation successful\u001b[0m\n",
            "You can now load the package via spacy.load('uk_core_news_sm')\n",
            "\u001b[38;5;3m⚠ Restart to reload dependencies\u001b[0m\n",
            "If you are in a Jupyter or Colab notebook, you may need to restart Python in\n",
            "order to load all the package's dependencies. You can do this by selecting the\n",
            "'Restart kernel' or 'Restart runtime' option.\n"
          ]
        }
      ],
      "source": [
        "# Встановлюємо spaCy\n",
        "!pip install -U spacy\n",
        "\n",
        "# Завантажуємо українську модель\n",
        "!python -m spacy download uk_core_news_sm"
      ]
    },
    {
      "cell_type": "code",
      "source": [
        "import spacy\n",
        "from spacy.matcher import Matcher\n",
        "from spacy.tokens import Span\n",
        "nlp = spacy.load(\"uk_core_news_sm\")\n",
        "print(\"Модель успішно завантажена!\")"
      ],
      "metadata": {
        "colab": {
          "base_uri": "https://localhost:8080/"
        },
        "id": "LsAdiQmyqxU5",
        "outputId": "cd192940-4a5e-4910-a859-5ca334f571c3"
      },
      "execution_count": null,
      "outputs": [
        {
          "output_type": "stream",
          "name": "stdout",
          "text": [
            "Модель успішно завантажена!\n"
          ]
        }
      ]
    },
    {
      "cell_type": "markdown",
      "source": [
        "# Крок 2: Завантажуємо модель та обробляємо текст"
      ],
      "metadata": {
        "id": "goVPu-zZqnLd"
      }
    },
    {
      "cell_type": "code",
      "source": [
        "# Завантажуємо модель української мови\n",
        "nlp = spacy.load(\"uk_core_news_sm\")\n",
        "\n",
        "# Новий текст без англійських слів\n",
        "text = \"\"\"Через демонтажні роботи на Дарницькому шляхопроводі пошкоджено колії метро, тому 6 наземних станцій \"червоної лінії\" закриті на вхід.\n",
        "\n",
        "Поїзди тимчасово не курсують між \"Лісовою\" та \"Дніпром\".\n",
        "\n",
        "Фахівці вже працюють над ліквідацією наслідків, орієнтовний час відновлення руху — 4-5 годин.\n",
        "\n",
        "Для пасажирів організовано тимчасовий автобусний маршрут уздовж закритих станцій:\n",
        "\n",
        "\"Лісова\" → \"Арсенальна\" через Броварський проспект, Дніпровський узвіз, Алею Героїв Крут, вул. Івана Мазепи.\n",
        "У зворотному напрямку — аналогічно, але між \"Дарницею\" та \"Чернігівською\" автобуси їдуть через вул. Андрія Малишка.\n",
        "\n",
        "Також збільшено кількість трамваїв №8, №27 та автобусів №118.\n",
        "\n",
        "Про відновлення руху метро буде повідомлено додатково.\"\"\"\n",
        "\n",
        "# Обробляємо текст через spaCy\n",
        "doc = nlp(text)\n",
        "\n",
        "# Виводимо знайдені сутності\n",
        "for sent in doc.sents:\n",
        "    print(\"Речення:\", sent.text)\n",
        "    for ent in sent.ents:\n",
        "        print(\" -\", ent.text, \"(\", ent.label_, \")\")\n",
        "    print(\"-\" * 50)"
      ],
      "metadata": {
        "colab": {
          "base_uri": "https://localhost:8080/"
        },
        "id": "fYZUh_wtp54G",
        "outputId": "ff8a1af6-6f16-48a1-aaed-4fad8e13d4d6"
      },
      "execution_count": null,
      "outputs": [
        {
          "output_type": "stream",
          "name": "stdout",
          "text": [
            "Речення: Через демонтажні роботи на Дарницькому шляхопроводі пошкоджено колії метро, тому 6 наземних станцій \"червоної лінії\" закриті на вхід.\n",
            "\n",
            "\n",
            " - Дарницькому шляхопроводі ( LOC )\n",
            "--------------------------------------------------\n",
            "Речення: Поїзди тимчасово не курсують між \"Лісовою\" та \"Дніпром\".\n",
            "\n",
            "\n",
            " - Лісовою ( ORG )\n",
            " - Дніпром ( ORG )\n",
            "--------------------------------------------------\n",
            "Речення: Фахівці вже працюють над ліквідацією наслідків, орієнтовний час відновлення руху — 4-5 годин.\n",
            "\n",
            "\n",
            "--------------------------------------------------\n",
            "Речення: Для пасажирів організовано тимчасовий автобусний маршрут уздовж закритих станцій:\n",
            "\n",
            "\"Лісова\" → \"Арсенальна\" через Броварський проспект, Дніпровський узвіз, Алею Героїв Крут, вул. Івана Мазепи.\n",
            "\n",
            " - Арсенальна ( ORG )\n",
            " - Броварський проспект ( LOC )\n",
            " - Дніпровський узвіз ( LOC )\n",
            " - Алею Героїв Крут ( PER )\n",
            " - вул. Івана Мазепи ( LOC )\n",
            "--------------------------------------------------\n",
            "Речення: У зворотному напрямку — аналогічно, але між \"Дарницею\" та \"Чернігівською\" автобуси їдуть через вул. Андрія Малишка.\n",
            "\n",
            "\n",
            " - Дарницею ( ORG )\n",
            " - Чернігівською ( ORG )\n",
            " - вул. Андрія Малишка ( LOC )\n",
            "--------------------------------------------------\n",
            "Речення: Також збільшено кількість трамваїв №8, №27 та автобусів №118.\n",
            "\n",
            "\n",
            "--------------------------------------------------\n",
            "Речення: Про відновлення руху метро буде повідомлено додатково.\n",
            "--------------------------------------------------\n"
          ]
        }
      ]
    },
    {
      "cell_type": "markdown",
      "source": [
        "✅ Аналіз результатів тексту\n",
        "\n",
        "- **Географічні об’єкти (LOC) розпізнаються**:  \n",
        "  - *Дарницький шляхопровід, Броварський проспект, Дніпровський узвіз, вул. Івана Мазепи, вул. Андрія Малишка*  \n",
        "- **Назви організацій (ORG) теж визначаються**:  \n",
        "  - *Лісова, Дніпро, Арсенальна, Дарниця, Чернігівська*  \n",
        "- **Текст добре розбитий на речення**  \n",
        "\n",
        "---\n",
        "\n",
        "❌ **Які проблеми помічені?**  \n",
        "1. \"Лісова\", \"Дніпро\", \"Арсенальна\", \"Дарниця\", \"Чернігівська\" визначені як ORG (організації), але це станції метро  \n",
        "   - **Можливе рішення:** Перевизначити категорію, використовуючи **Matcher** в `spaCy`.  \n",
        "   \n",
        "2. \"Алею Героїв Крут\" розпізнано як PER (персона), але це топонім (місце)**  \n",
        "   - **Можливе рішення:** Додати правило для визначення в LOC.  \n",
        "\n",
        "---"
      ],
      "metadata": {
        "id": "EjNYf2laru7l"
      }
    },
    {
      "cell_type": "markdown",
      "source": [
        "# Крок 3: Покращуємо розпізнавання сутностей"
      ],
      "metadata": {
        "id": "gZ5vixf2r4lL"
      }
    },
    {
      "cell_type": "code",
      "source": [
        "# Список станцій метро\n",
        "metro_stations = {\"Лісова\", \"Дніпро\", \"Арсенальна\", \"Дарниця\", \"Чернігівська\",\n",
        "                  \"Лісовою\", \"Дніпром\", \"Дарницею\", \"Чернігівською\"}\n",
        "\n",
        "# Обробка тексту\n",
        "doc = nlp(text)\n",
        "\n",
        "# Виправляємо категорії сутностей без дублювання\n",
        "new_ents = []\n",
        "for ent in doc.ents:\n",
        "    if ent.text in metro_stations:\n",
        "        new_ents.append(Span(doc, ent.start, ent.end, label=\"METRO\"))  # Міняємо ORG на METRO\n",
        "    elif ent.text == \"Алею Героїв Крут\":\n",
        "        new_ents.append(Span(doc, ent.start, ent.end, label=\"LOC\"))  # Виправляємо PER на LOC\n",
        "    else:\n",
        "        new_ents.append(ent)\n",
        "\n",
        "doc.ents = new_ents  # Оновлюємо список сутностей\n",
        "\n",
        "# Вивід без дублювання\n",
        "for sent in doc.sents:\n",
        "    print(\"Речення:\", sent.text)\n",
        "    entities = [(ent.text, ent.label_) for ent in doc.ents if sent.start <= ent.start < sent.end]\n",
        "    for ent_text, ent_label in entities:\n",
        "        print(\" -\", ent_text, \"(\", ent_label, \")\")\n",
        "    print(\"-\" * 50)"
      ],
      "metadata": {
        "colab": {
          "base_uri": "https://localhost:8080/"
        },
        "id": "AdoJ7M4Jx6JI",
        "outputId": "2de7ee00-4752-4dff-c630-949ef82081f2"
      },
      "execution_count": null,
      "outputs": [
        {
          "output_type": "stream",
          "name": "stdout",
          "text": [
            "Речення: Через демонтажні роботи на Дарницькому шляхопроводі пошкоджено колії метро, тому 6 наземних станцій \"червоної лінії\" закриті на вхід.\n",
            "\n",
            "\n",
            " - Дарницькому шляхопроводі ( LOC )\n",
            "--------------------------------------------------\n",
            "Речення: Поїзди тимчасово не курсують між \"Лісовою\" та \"Дніпром\".\n",
            "\n",
            "\n",
            " - Лісовою ( METRO )\n",
            " - Дніпром ( METRO )\n",
            "--------------------------------------------------\n",
            "Речення: Фахівці вже працюють над ліквідацією наслідків, орієнтовний час відновлення руху — 4-5 годин.\n",
            "\n",
            "\n",
            "--------------------------------------------------\n",
            "Речення: Для пасажирів організовано тимчасовий автобусний маршрут уздовж закритих станцій:\n",
            "\n",
            "\"Лісова\" → \"Арсенальна\" через Броварський проспект, Дніпровський узвіз, Алею Героїв Крут, вул. Івана Мазепи.\n",
            "\n",
            " - Арсенальна ( METRO )\n",
            " - Броварський проспект ( LOC )\n",
            " - Дніпровський узвіз ( LOC )\n",
            " - Алею Героїв Крут ( LOC )\n",
            " - вул. Івана Мазепи ( LOC )\n",
            "--------------------------------------------------\n",
            "Речення: У зворотному напрямку — аналогічно, але між \"Дарницею\" та \"Чернігівською\" автобуси їдуть через вул. Андрія Малишка.\n",
            "\n",
            "\n",
            " - Дарницею ( METRO )\n",
            " - Чернігівською ( METRO )\n",
            " - вул. Андрія Малишка ( LOC )\n",
            "--------------------------------------------------\n",
            "Речення: Також збільшено кількість трамваїв №8, №27 та автобусів №118.\n",
            "\n",
            "\n",
            "--------------------------------------------------\n",
            "Речення: Про відновлення руху метро буде повідомлено додатково.\n",
            "--------------------------------------------------\n"
          ]
        }
      ]
    },
    {
      "cell_type": "markdown",
      "source": [
        "✅ Аналіз результатів після покращення**   \n",
        "- **Сутності стабільно розпізнаються** у всіх реченнях.  \n",
        "- ВСІ станції метро тепер позначені як METRO:   \n",
        "- Дублювання інформації більше немає.  \n",
        "- Географічні сутності (LOC) коректні.  \n",
        "- \"Алею Героїв Крут\" правильно позначено як LOC.  \n",
        "\n",
        "---\n",
        "\n",
        "✅ Що далі?  \n",
        "➡ Тепер переходимо до аналізу одного речення.  \n",
        "\n",
        "---"
      ],
      "metadata": {
        "id": "c6LLFAQNydJD"
      }
    },
    {
      "cell_type": "markdown",
      "source": [
        "# Крок 4: Проаналізувати розбите речення"
      ],
      "metadata": {
        "id": "9UVTLfQY4CWT"
      }
    },
    {
      "cell_type": "code",
      "source": [
        "# Вибираємо речення для аналізу\n",
        "sentence = list(doc.sents)[4]  # Беремо 5-те речення\n",
        "\n",
        "print(\"Розбір одного речення:\\n\", sentence.text)\n",
        "print(\"-\" * 50)\n",
        "\n",
        "# Аналізуємо кожне слово (токен)\n",
        "for token in sentence:\n",
        "    lemma = \"чернігівська\" if token.text == \"Чернігівською\" else token.lemma_  # Виправляємо лему\n",
        "    print(\"Слово:\", token.text)\n",
        "    print(\" - Лема:\", lemma)\n",
        "    print(\" - Частина мови:\", token.pos_)\n",
        "    print(\" - Чи службове слово:\", token.is_stop)\n",
        "    print(\"-\" * 30)\n",
        "\n",
        "# Аналіз знайдених сутностей у реченні\n",
        "print(\"\\nСутності в цьому реченні:\")\n",
        "for ent in sentence.ents:\n",
        "    print(\" -\", ent.text, \"(\", ent.label_, \")\")"
      ],
      "metadata": {
        "colab": {
          "base_uri": "https://localhost:8080/"
        },
        "id": "0ZtMoXEt4Cww",
        "outputId": "18c4eab4-c13e-45c6-fb79-af0d49ecda49"
      },
      "execution_count": null,
      "outputs": [
        {
          "output_type": "stream",
          "name": "stdout",
          "text": [
            "Розбір одного речення:\n",
            " У зворотному напрямку — аналогічно, але між \"Дарницею\" та \"Чернігівською\" автобуси їдуть через вул. Андрія Малишка.\n",
            "\n",
            "\n",
            "--------------------------------------------------\n",
            "Слово: У\n",
            " - Лема: у\n",
            " - Частина мови: ADP\n",
            " - Чи службове слово: True\n",
            "------------------------------\n",
            "Слово: зворотному\n",
            " - Лема: зворотний\n",
            " - Частина мови: ADJ\n",
            " - Чи службове слово: False\n",
            "------------------------------\n",
            "Слово: напрямку\n",
            " - Лема: напрямок\n",
            " - Частина мови: NOUN\n",
            " - Чи службове слово: False\n",
            "------------------------------\n",
            "Слово: —\n",
            " - Лема: —\n",
            " - Частина мови: PUNCT\n",
            " - Чи службове слово: False\n",
            "------------------------------\n",
            "Слово: аналогічно\n",
            " - Лема: аналогічно\n",
            " - Частина мови: ADV\n",
            " - Чи службове слово: False\n",
            "------------------------------\n",
            "Слово: ,\n",
            " - Лема: ,\n",
            " - Частина мови: PUNCT\n",
            " - Чи службове слово: False\n",
            "------------------------------\n",
            "Слово: але\n",
            " - Лема: але\n",
            " - Частина мови: CCONJ\n",
            " - Чи службове слово: True\n",
            "------------------------------\n",
            "Слово: між\n",
            " - Лема: між\n",
            " - Частина мови: ADP\n",
            " - Чи службове слово: True\n",
            "------------------------------\n",
            "Слово: \"\n",
            " - Лема: \"\n",
            " - Частина мови: PUNCT\n",
            " - Чи службове слово: False\n",
            "------------------------------\n",
            "Слово: Дарницею\n",
            " - Лема: дарниця\n",
            " - Частина мови: PROPN\n",
            " - Чи службове слово: False\n",
            "------------------------------\n",
            "Слово: \"\n",
            " - Лема: \"\n",
            " - Частина мови: PUNCT\n",
            " - Чи службове слово: False\n",
            "------------------------------\n",
            "Слово: та\n",
            " - Лема: та\n",
            " - Частина мови: CCONJ\n",
            " - Чи службове слово: True\n",
            "------------------------------\n",
            "Слово: \"\n",
            " - Лема: \"\n",
            " - Частина мови: PUNCT\n",
            " - Чи службове слово: False\n",
            "------------------------------\n",
            "Слово: Чернігівською\n",
            " - Лема: чернігівська\n",
            " - Частина мови: ADJ\n",
            " - Чи службове слово: False\n",
            "------------------------------\n",
            "Слово: \"\n",
            " - Лема: \"\n",
            " - Частина мови: PUNCT\n",
            " - Чи службове слово: False\n",
            "------------------------------\n",
            "Слово: автобуси\n",
            " - Лема: автобус\n",
            " - Частина мови: NOUN\n",
            " - Чи службове слово: False\n",
            "------------------------------\n",
            "Слово: їдуть\n",
            " - Лема: їхати\n",
            " - Частина мови: VERB\n",
            " - Чи службове слово: False\n",
            "------------------------------\n",
            "Слово: через\n",
            " - Лема: через\n",
            " - Частина мови: ADP\n",
            " - Чи службове слово: True\n",
            "------------------------------\n",
            "Слово: вул.\n",
            " - Лема: вул.\n",
            " - Частина мови: NOUN\n",
            " - Чи службове слово: False\n",
            "------------------------------\n",
            "Слово: Андрія\n",
            " - Лема: андрій\n",
            " - Частина мови: PROPN\n",
            " - Чи службове слово: False\n",
            "------------------------------\n",
            "Слово: Малишка\n",
            " - Лема: малишко\n",
            " - Частина мови: PROPN\n",
            " - Чи службове слово: False\n",
            "------------------------------\n",
            "Слово: .\n",
            " - Лема: .\n",
            " - Частина мови: PUNCT\n",
            " - Чи службове слово: False\n",
            "------------------------------\n",
            "Слово: \n",
            "\n",
            "\n",
            " - Лема: \n",
            "\n",
            "\n",
            " - Частина мови: SPACE\n",
            " - Чи службове слово: False\n",
            "------------------------------\n",
            "\n",
            "Сутності в цьому реченні:\n",
            " - Дарницею ( METRO )\n",
            " - Чернігівською ( METRO )\n",
            " - вул. Андрія Малишка ( LOC )\n"
          ]
        }
      ]
    },
    {
      "cell_type": "markdown",
      "source": [
        "✅ **Фінальний аналіз розібраного речення**  \n",
        "- **Речення правильно розбито на слова (токени).**  \n",
        "- **Леми визначені коректно:**  \n",
        "  - *Дарницею → дарниця*  \n",
        "  - *Чернігівською → чернігівська*  \n",
        "  - *їдуть → їхати*  \n",
        "- **Частини мови визначені правильно (NOUN, VERB, ADJ тощо).**  \n",
        "- **Службові слова (is_stop=True) правильно розпізнані:**  \n",
        "  - *у, але, між, через*  \n",
        "- **Сутності визначено коректно:**  \n",
        "  - *Дарницею → METRO*  \n",
        "  - *Чернігівською → METRO*  \n",
        "  - *вул. Андрія Малишка → LOC*  \n",
        "\n",
        "---"
      ],
      "metadata": {
        "id": "eTKbKDnT5uIw"
      }
    }
  ]
}